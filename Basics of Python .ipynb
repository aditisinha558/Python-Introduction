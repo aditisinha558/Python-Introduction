{
 "cells": [
  {
   "cell_type": "raw",
   "id": "8704cfb3-d759-416f-8317-945c00a50442",
   "metadata": {},
   "source": [
    "Basics of Python "
   ]
  },
  {
   "cell_type": "markdown",
   "id": "4e72dd89-bce1-4c2e-b538-4b4c6565d564",
   "metadata": {},
   "source": [
    "#This classic \"Hello, World!\" program is your first step into the Python world. Run it, and yeah! you've successfully executed your first Python script!"
   ]
  },
  {
   "cell_type": "code",
   "execution_count": 1,
   "id": "d7011c69-bd36-4391-9897-06613ce66f8f",
   "metadata": {},
   "outputs": [
    {
     "name": "stdout",
     "output_type": "stream",
     "text": [
      "hello\n"
     ]
    }
   ],
   "source": [
    "print(\"hello\")"
   ]
  },
  {
   "cell_type": "code",
   "execution_count": null,
   "id": "477481ef-8d77-4c97-a638-39ccf28bc9e7",
   "metadata": {},
   "outputs": [],
   "source": [
    "#Variables and Data Types"
   ]
  },
  {
   "cell_type": "code",
   "execution_count": 3,
   "id": "95a279f0-2f6b-4d53-ac9d-7e6b0859972d",
   "metadata": {},
   "outputs": [
    {
     "name": "stdout",
     "output_type": "stream",
     "text": [
      "Name: Aditi\n",
      "Age: 12\n",
      "Height: 6.9\n"
     ]
    }
   ],
   "source": [
    "# Variable declaration\n",
    "name = \"Aditi\"\n",
    "age = 12\n",
    "height = 6.9\n",
    "\n",
    "# Displaying information\n",
    "print(\"Name:\", name)\n",
    "print(\"Age:\", age)\n",
    "print(\"Height:\", height)"
   ]
  },
  {
   "cell_type": "markdown",
   "id": "23cdcf46-e493-4f30-96f6-47db535bf9d8",
   "metadata": {},
   "source": [
    "#Learn about variables and different data types in Python. Here, I have declared a name (string), age (integer), and height (float) variable."
   ]
  },
  {
   "cell_type": "markdown",
   "id": "e207db0f-c14b-4e2b-9614-ab09821abdae",
   "metadata": {},
   "source": [
    "#Control Flow - Conditional Statements\n",
    "# Here you can understand control flow using conditional statements. This example checks if a student passed or failed based on their grade."
   ]
  },
  {
   "cell_type": "code",
   "execution_count": 4,
   "id": "1c5e269f-0fe6-4ff1-a130-c063714ef7e8",
   "metadata": {},
   "outputs": [
    {
     "name": "stdout",
     "output_type": "stream",
     "text": [
      "Passed\n"
     ]
    }
   ],
   "source": [
    "# Conditional statement\n",
    "grade = 75\n",
    "\n",
    "if grade >= 60:\n",
    "    print(\"Passed\")\n",
    "else:\n",
    "    print(\"Failed\")"
   ]
  },
  {
   "cell_type": "code",
   "execution_count": 6,
   "id": "b76d3808-4f40-4f44-8419-939b3beef5bd",
   "metadata": {},
   "outputs": [
    {
     "name": "stdout",
     "output_type": "stream",
     "text": [
      "Failed\n"
     ]
    }
   ],
   "source": [
    "# Conditional statement\n",
    "grade = 100\n",
    "\n",
    "if grade <= 24:\n",
    "    print(\"Passed\")\n",
    "else:\n",
    "    print(\"Failed\")"
   ]
  },
  {
   "cell_type": "markdown",
   "id": "dd922981-61ee-46b1-95e8-dc9704cfe7fe",
   "metadata": {},
   "source": [
    "#Functions in Python. \n",
    "#This example defines a simple function greet that takes a name as an argument and returns a greeting."
   ]
  },
  {
   "cell_type": "code",
   "execution_count": 3,
   "id": "095cb0d8-a9fa-4674-a33f-3fd4c722dc95",
   "metadata": {},
   "outputs": [
    {
     "name": "stdout",
     "output_type": "stream",
     "text": [
      "Hello, Aditi Sinha!\n"
     ]
    }
   ],
   "source": [
    "# Function definition\n",
    "def greet(name):\n",
    "    return f\"Hello, {name}!\"\n",
    "\n",
    "# Function call\n",
    "result = greet(\"Aditi Sinha\")\n",
    "print(result)"
   ]
  },
  {
   "cell_type": "markdown",
   "id": "c72422e6-6621-42ca-b98d-0fa4b8337eb1",
   "metadata": {},
   "source": [
    "#Modules\n",
    "#Let's explore python modules by importing and using them in our code. Here, the math module is imported, and its sqrt function is used to calculate the square root of 25."
   ]
  },
  {
   "cell_type": "code",
   "execution_count": 5,
   "id": "033e1f10-a005-45ba-9d85-a093c4443734",
   "metadata": {},
   "outputs": [
    {
     "name": "stdout",
     "output_type": "stream",
     "text": [
      "Square root: 5.0\n"
     ]
    }
   ],
   "source": [
    "# Getting module names\n",
    "import math\n",
    "\n",
    "# Using module functions\n",
    "result = math.sqrt(25)\n",
    "print(\"Square root:\", result)"
   ]
  },
  {
   "cell_type": "markdown",
   "id": "2750fac4-6cb1-465b-8a8e-9fef0b319cf8",
   "metadata": {},
   "source": [
    "#Creating Functions\n",
    "#Syntax:\n",
    "#Functions in Python are defined using the def keyword, followed by the function name and parameters. \n",
    "#The function body contains the code to be executed, and the return statement specifies the result to be returned."
   ]
  },
  {
   "cell_type": "code",
   "execution_count": 6,
   "id": "058d9a22-c536-4f8e-8714-7a869d281626",
   "metadata": {},
   "outputs": [],
   "source": [
    "def function_name(parameters):\n",
    "    # Function body\n",
    "    return result"
   ]
  },
  {
   "cell_type": "markdown",
   "id": "5b4c8352-46a4-46c9-865b-c445b7aca0ec",
   "metadata": {},
   "source": [
    "#Using Modules\n",
    "#Syntax: import module_name\n",
    "result = module_name.function_name(arguments)"
   ]
  },
  {
   "cell_type": "code",
   "execution_count": 7,
   "id": "98fef772-2060-40a4-ba37-8361dbd26726",
   "metadata": {},
   "outputs": [],
   "source": [
    "import tkinter as tk\n",
    "\n",
    "# Create a function to be used in the module example\n",
    "def on_button_click():\n",
    "    label.config(text=\"Button Clicked!\")"
   ]
  },
  {
   "cell_type": "markdown",
   "id": "906e7cce-3e35-4e90-9ea7-d17298df520b",
   "metadata": {},
   "source": [
    "Lists:\n",
    "Lists are used to store multiple items in a single variable. Elements in a list are indexed, starting from 0. Lists are mutable, meaning you can modify their elements.\n",
    "\n"
   ]
  },
  {
   "cell_type": "code",
   "execution_count": 17,
   "id": "709f1f7b-4c80-42c2-8042-1305277bc3ae",
   "metadata": {},
   "outputs": [
    {
     "name": "stdout",
     "output_type": "stream",
     "text": [
      "[1, 10, 3, 4, 5]\n"
     ]
    }
   ],
   "source": [
    "# List creation\n",
    "numbers = [1, 2, 3, 4, 5]\n",
    "\n",
    "# Accessing elements\n",
    "first_element = numbers[0]\n",
    "\n",
    "# Modifying elements\n",
    "numbers[1] = 10\n",
    "\n",
    "# List length\n",
    "list_length = len(numbers)\n",
    "print(numbers)"
   ]
  },
  {
   "cell_type": "code",
   "execution_count": 16,
   "id": "392ea1d9-4ae7-40e0-a676-a1bbb085e94e",
   "metadata": {},
   "outputs": [
    {
     "name": "stdout",
     "output_type": "stream",
     "text": [
      "['apple', 'banana', 'orange', 'grape']\n"
     ]
    }
   ],
   "source": [
    "# List creation and manipulation\n",
    "fruits = ['apple', 'banana', 'orange']\n",
    "fruits.append('grape')\n",
    "print(fruits)"
   ]
  },
  {
   "cell_type": "markdown",
   "id": "b58a7ce2-966a-4770-9a43-66cbbd58c1b2",
   "metadata": {},
   "source": [
    "Dictionaries:\n",
    "Dictionaries are used to store data in key-value pairs. Each key in a dictionary must be unique. They are often used when the order of elements does not matter."
   ]
  },
  {
   "cell_type": "code",
   "execution_count": 13,
   "id": "9110be47-9cc4-4569-9921-01688145f035",
   "metadata": {},
   "outputs": [],
   "source": [
    "# Dictionary creation\n",
    "person = {\"name\": \"Alice\", \"age\": 30, \"city\": \"Wonderland\"}\n",
    "\n",
    "# Accessing values\n",
    "person_name = person[\"name\"]\n",
    "\n",
    "# Modifying values\n",
    "person[\"age\"] = 31\n",
    "\n",
    "# Dictionary length\n",
    "dictionary_length = len(person)"
   ]
  },
  {
   "cell_type": "markdown",
   "id": "e2aab5be-e7e9-4373-86ec-d91aa7625a7e",
   "metadata": {},
   "source": [
    "Loops"
   ]
  },
  {
   "cell_type": "markdown",
   "id": "3a2c1bff-48ad-476c-b28c-4dcad29b7d32",
   "metadata": {},
   "source": [
    "For Loop"
   ]
  },
  {
   "cell_type": "code",
   "execution_count": 14,
   "id": "ff8cc367-dcc2-472c-919f-0a08808a5e09",
   "metadata": {},
   "outputs": [
    {
     "name": "stdout",
     "output_type": "stream",
     "text": [
      "1\n",
      "2\n",
      "3\n",
      "4\n",
      "5\n"
     ]
    }
   ],
   "source": [
    "# For loop to print numbers from 1 to 5\n",
    "for i in range(1, 6):\n",
    "    print(i)"
   ]
  },
  {
   "cell_type": "markdown",
   "id": "cec5c66f-6aa7-466e-bca4-51d628d0716c",
   "metadata": {},
   "source": [
    "While Loop:\n",
    "Lets look into the while loop, which continues to execute a block of code as long as a condition is true. This example counts down from 3."
   ]
  },
  {
   "cell_type": "code",
   "execution_count": null,
   "id": "87941ad1-1279-45fb-92a5-9f061adb0b99",
   "metadata": {},
   "outputs": [],
   "source": [
    "# While loop to count down from 3\n",
    "count = 3\n",
    "while count > 0:\n",
    "    print(count)\n",
    "    count -= 1"
   ]
  },
  {
   "cell_type": "code",
   "execution_count": null,
   "id": "61347486-ba9f-4119-8017-df1028aef581",
   "metadata": {},
   "outputs": [],
   "source": [
    "User Input\n",
    "Here how you can receive input from users. This example prompts the user to enter their name and prints a personalized greeting."
   ]
  },
  {
   "cell_type": "code",
   "execution_count": 18,
   "id": "1eaaf1b1-0b3e-488d-be9a-a3565ea5401d",
   "metadata": {},
   "outputs": [
    {
     "name": "stdin",
     "output_type": "stream",
     "text": [
      "Enter your name:  Aditi Sinha\n"
     ]
    },
    {
     "name": "stdout",
     "output_type": "stream",
     "text": [
      "Hello, Aditi Sinha!\n"
     ]
    }
   ],
   "source": [
    "# Getting user input\n",
    "name = input(\"Enter your name: \")\n",
    "print(\"Hello, \" + name + \"!\")"
   ]
  },
  {
   "cell_type": "markdown",
   "id": "5e5bb079-7857-417a-aad9-56aed74a2b2f",
   "metadata": {},
   "source": [
    "Variable Scope\n",
    "Variables in Python have scope, meaning they are accessible only within the block of code where they are defined.\n",
    "\n",
    "Variables defined within a function have local scope, while those defined outside functions have global scope.\r\n"
   ]
  },
  {
   "cell_type": "code",
   "execution_count": 20,
   "id": "b622b25b-c9bf-4174-82d3-4df40be34e94",
   "metadata": {},
   "outputs": [
    {
     "name": "stdout",
     "output_type": "stream",
     "text": [
      "I'm Aditi\n"
     ]
    }
   ],
   "source": [
    "# Global variable\n",
    "global_var = \"I'm Aditi\"\n",
    "\n",
    "def print_global():\n",
    "    print(global_var)\n",
    "\n",
    "print_global()  # Output: I'm global"
   ]
  },
  {
   "cell_type": "markdown",
   "id": "bceebee0-3c15-43d1-93c1-0b8c75689ab7",
   "metadata": {},
   "source": [
    "String Manipulation\n",
    "Strings can be manipulated using various methods such as concatenation, slicing, and formatting."
   ]
  },
  {
   "cell_type": "code",
   "execution_count": 21,
   "id": "b6bfc095-a819-4f80-9ff8-e95d693bd1d0",
   "metadata": {},
   "outputs": [
    {
     "name": "stdout",
     "output_type": "stream",
     "text": [
      "Full Name: Aditi Sinha\n"
     ]
    }
   ],
   "source": [
    "# String concatenation\n",
    "first_name = \"Aditi\"\n",
    "last_name = \"Sinha\"\n",
    "full_name = first_name + \" \" + last_name\n",
    "print(\"Full Name:\", full_name)"
   ]
  },
  {
   "cell_type": "code",
   "execution_count": null,
   "id": "b01f8266-9c9d-4907-9319-8cd4eaed9579",
   "metadata": {},
   "outputs": [],
   "source": []
  }
 ],
 "metadata": {
  "kernelspec": {
   "display_name": "Python 3 (ipykernel)",
   "language": "python",
   "name": "python3"
  },
  "language_info": {
   "codemirror_mode": {
    "name": "ipython",
    "version": 3
   },
   "file_extension": ".py",
   "mimetype": "text/x-python",
   "name": "python",
   "nbconvert_exporter": "python",
   "pygments_lexer": "ipython3",
   "version": "3.10.13"
  }
 },
 "nbformat": 4,
 "nbformat_minor": 5
}
